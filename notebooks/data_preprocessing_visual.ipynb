{
 "cells": [
  {
   "cell_type": "code",
   "execution_count": 250,
   "metadata": {},
   "outputs": [],
   "source": [
    "import pandas as pd\n",
    "from dotenv import load_dotenv, find_dotenv\n",
    "import os\n",
    "import matplotlib.pyplot as plt\n",
    "import seaborn as sns\n",
    "import numpy as np"
   ]
  },
  {
   "cell_type": "code",
   "execution_count": 251,
   "metadata": {},
   "outputs": [
    {
     "data": {
      "text/plain": [
       "True"
      ]
     },
     "execution_count": 251,
     "metadata": {},
     "output_type": "execute_result"
    }
   ],
   "source": [
    "load_dotenv(find_dotenv())"
   ]
  },
  {
   "cell_type": "code",
   "execution_count": 252,
   "metadata": {},
   "outputs": [
    {
     "data": {
      "text/plain": [
       "'/home/tdy245/ResearchProjects/Winter_2024/CMPT-828/A_Implementation/PaCo/data/output'"
      ]
     },
     "execution_count": 252,
     "metadata": {},
     "output_type": "execute_result"
    }
   ],
   "source": [
    "project_root = os.environ.get(\"PROJECT_ROOT\")\n",
    "data_dir = os.environ.get(\"DATA_DIR\")\n",
    "dataset_fullpath = os.path.join(project_root, data_dir, \"output\")\n",
    "dataset_fullpath"
   ]
  },
  {
   "cell_type": "code",
   "execution_count": 253,
   "metadata": {},
   "outputs": [],
   "source": [
    "# save all essential to reports\n",
    "figures_dir = os.path.join(project_root, 'reports', 'figures')"
   ]
  },
  {
   "cell_type": "code",
   "execution_count": 254,
   "metadata": {},
   "outputs": [],
   "source": [
    "large_patches_df = pd.read_csv(os.path.join(dataset_fullpath, \"large-patches.csv\"))\n",
    "small_patches_df = pd.read_csv(os.path.join(dataset_fullpath, \"small-patches.csv\")) "
   ]
  },
  {
   "cell_type": "markdown",
   "metadata": {},
   "source": [
    "# Implementation on the small_patches dataset"
   ]
  },
  {
   "cell_type": "code",
   "execution_count": 255,
   "metadata": {},
   "outputs": [
    {
     "data": {
      "text/plain": [
       "Index(['dataset', 'tool', 'buggy', 'patch', 'label'], dtype='object')"
      ]
     },
     "execution_count": 255,
     "metadata": {},
     "output_type": "execute_result"
    }
   ],
   "source": [
    "small_patches_df.keys()"
   ]
  },
  {
   "cell_type": "code",
   "execution_count": 256,
   "metadata": {},
   "outputs": [
    {
     "data": {
      "text/plain": [
       "array(['ACS', 'Kali', 'SketchFix', 'Cardumen', 'TBar', 'jKali',\n",
       "       'SequenceR', 'CapGen', 'Nopol', 'AVATAR', 'jGenProg', 'Nopol2015',\n",
       "       'HDRepair', 'Nopol2017', 'FixMiner', 'Jaid', 'SimFix', 'kPAR',\n",
       "       'Arja', 'RSRepair', 'SOFix', 'jMutRepair', 'GenProg', 'DynaMoth',\n",
       "       'HDRepair.patch', 'ACS.patch', 'Nopol2015.patch', 'jGenProg.patch',\n",
       "       'defects4j-developer'], dtype=object)"
      ]
     },
     "execution_count": 256,
     "metadata": {},
     "output_type": "execute_result"
    }
   ],
   "source": [
    "small_patches_df['tool'].unique()"
   ]
  },
  {
   "cell_type": "code",
   "execution_count": 257,
   "metadata": {},
   "outputs": [],
   "source": [
    "def dataset_info(dataset):\n",
    "    print(f\"Total number of patches:  {dataset.shape[0]}\")\n",
    "    print(f\"Total number of unique bugs: {len(dataset['dataset'].unique())}\")\n",
    "    print(f\"Total number of correct patches: {len(dataset.loc[dataset['label'] == 'correct'])}\")\n",
    "    print(f\"Total number of overfitted patches: {len(dataset.loc[dataset['label'] == 'overfitting'])}\")\n",
    "    print(f\"Tools used: {dataset['tool'].unique()}\\nTotal number of tools: {len(dataset['tool'].unique())}\")"
   ]
  },
  {
   "cell_type": "code",
   "execution_count": 258,
   "metadata": {},
   "outputs": [
    {
     "name": "stdout",
     "output_type": "stream",
     "text": [
      "Total number of patches:  1183\n",
      "Total number of unique bugs: 356\n",
      "Total number of correct patches: 535\n",
      "Total number of overfitted patches: 648\n",
      "Tools used: ['ACS' 'Kali' 'SketchFix' 'Cardumen' 'TBar' 'jKali' 'SequenceR' 'CapGen'\n",
      " 'Nopol' 'AVATAR' 'jGenProg' 'Nopol2015' 'HDRepair' 'Nopol2017' 'FixMiner'\n",
      " 'Jaid' 'SimFix' 'kPAR' 'Arja' 'RSRepair' 'SOFix' 'jMutRepair' 'GenProg'\n",
      " 'DynaMoth' 'HDRepair.patch' 'ACS.patch' 'Nopol2015.patch'\n",
      " 'jGenProg.patch' 'defects4j-developer']\n",
      "Total number of tools: 29\n"
     ]
    }
   ],
   "source": [
    "dataset_info(small_patches_df)"
   ]
  },
  {
   "cell_type": "code",
   "execution_count": 259,
   "metadata": {},
   "outputs": [],
   "source": [
    "small_df_ = pd.crosstab(small_patches_df[\"dataset\"], small_patches_df[\"label\"])\n",
    "small_df_.name = \"small_patches\""
   ]
  },
  {
   "cell_type": "code",
   "execution_count": 260,
   "metadata": {},
   "outputs": [
    {
     "name": "stdout",
     "output_type": "stream",
     "text": [
      "Has only incorrect patches: 2 \n",
      "Has only correct patches: 190 \n"
     ]
    },
    {
     "data": {
      "text/html": [
       "<div>\n",
       "<style scoped>\n",
       "    .dataframe tbody tr th:only-of-type {\n",
       "        vertical-align: middle;\n",
       "    }\n",
       "\n",
       "    .dataframe tbody tr th {\n",
       "        vertical-align: top;\n",
       "    }\n",
       "\n",
       "    .dataframe thead th {\n",
       "        text-align: right;\n",
       "    }\n",
       "</style>\n",
       "<table border=\"1\" class=\"dataframe\">\n",
       "  <thead>\n",
       "    <tr style=\"text-align: right;\">\n",
       "      <th>label</th>\n",
       "      <th>correct</th>\n",
       "      <th>overfitting</th>\n",
       "    </tr>\n",
       "    <tr>\n",
       "      <th>dataset</th>\n",
       "      <th></th>\n",
       "      <th></th>\n",
       "    </tr>\n",
       "  </thead>\n",
       "  <tbody>\n",
       "    <tr>\n",
       "      <th>Defects4J-Chart-1</th>\n",
       "      <td>3</td>\n",
       "      <td>14</td>\n",
       "    </tr>\n",
       "    <tr>\n",
       "      <th>Defects4J-Chart-10</th>\n",
       "      <td>1</td>\n",
       "      <td>0</td>\n",
       "    </tr>\n",
       "    <tr>\n",
       "      <th>Defects4J-Chart-11</th>\n",
       "      <td>3</td>\n",
       "      <td>0</td>\n",
       "    </tr>\n",
       "    <tr>\n",
       "      <th>Defects4J-Chart-12</th>\n",
       "      <td>2</td>\n",
       "      <td>5</td>\n",
       "    </tr>\n",
       "    <tr>\n",
       "      <th>Defects4J-Chart-13</th>\n",
       "      <td>1</td>\n",
       "      <td>15</td>\n",
       "    </tr>\n",
       "  </tbody>\n",
       "</table>\n",
       "</div>"
      ],
      "text/plain": [
       "label               correct  overfitting\n",
       "dataset                                 \n",
       "Defects4J-Chart-1         3           14\n",
       "Defects4J-Chart-10        1            0\n",
       "Defects4J-Chart-11        3            0\n",
       "Defects4J-Chart-12        2            5\n",
       "Defects4J-Chart-13        1           15"
      ]
     },
     "execution_count": 260,
     "metadata": {},
     "output_type": "execute_result"
    }
   ],
   "source": [
    "print(f\"Has only incorrect patches: {len(small_df_.loc[small_df_['correct'] == 0])} \")\n",
    "print(f\"Has only correct patches: {len(small_df_.loc[small_df_['overfitting'] == 0])} \")\n",
    "small_df_.head()"
   ]
  },
  {
   "cell_type": "code",
   "execution_count": 402,
   "metadata": {},
   "outputs": [
    {
     "data": {
      "text/html": [
       "<div>\n",
       "<style scoped>\n",
       "    .dataframe tbody tr th:only-of-type {\n",
       "        vertical-align: middle;\n",
       "    }\n",
       "\n",
       "    .dataframe tbody tr th {\n",
       "        vertical-align: top;\n",
       "    }\n",
       "\n",
       "    .dataframe thead th {\n",
       "        text-align: right;\n",
       "    }\n",
       "</style>\n",
       "<table border=\"1\" class=\"dataframe\">\n",
       "  <thead>\n",
       "    <tr style=\"text-align: right;\">\n",
       "      <th>label</th>\n",
       "      <th>correct</th>\n",
       "      <th>overfitting</th>\n",
       "    </tr>\n",
       "    <tr>\n",
       "      <th>dataset</th>\n",
       "      <th></th>\n",
       "      <th></th>\n",
       "    </tr>\n",
       "  </thead>\n",
       "  <tbody>\n",
       "    <tr>\n",
       "      <th>Defects4J-Chart-10</th>\n",
       "      <td>1</td>\n",
       "      <td>0</td>\n",
       "    </tr>\n",
       "    <tr>\n",
       "      <th>Defects4J-Chart-11</th>\n",
       "      <td>3</td>\n",
       "      <td>0</td>\n",
       "    </tr>\n",
       "    <tr>\n",
       "      <th>Defects4J-Chart-16</th>\n",
       "      <td>1</td>\n",
       "      <td>0</td>\n",
       "    </tr>\n",
       "    <tr>\n",
       "      <th>Defects4J-Chart-2</th>\n",
       "      <td>1</td>\n",
       "      <td>0</td>\n",
       "    </tr>\n",
       "    <tr>\n",
       "      <th>Defects4J-Chart-20</th>\n",
       "      <td>3</td>\n",
       "      <td>0</td>\n",
       "    </tr>\n",
       "    <tr>\n",
       "      <th>...</th>\n",
       "      <td>...</td>\n",
       "      <td>...</td>\n",
       "    </tr>\n",
       "    <tr>\n",
       "      <th>Defects4J-Time-3</th>\n",
       "      <td>1</td>\n",
       "      <td>0</td>\n",
       "    </tr>\n",
       "    <tr>\n",
       "      <th>Defects4J-Time-5</th>\n",
       "      <td>1</td>\n",
       "      <td>0</td>\n",
       "    </tr>\n",
       "    <tr>\n",
       "      <th>Defects4J-Time-6</th>\n",
       "      <td>1</td>\n",
       "      <td>0</td>\n",
       "    </tr>\n",
       "    <tr>\n",
       "      <th>Defects4J-Time-8</th>\n",
       "      <td>1</td>\n",
       "      <td>0</td>\n",
       "    </tr>\n",
       "    <tr>\n",
       "      <th>Defects4J-Time-9</th>\n",
       "      <td>1</td>\n",
       "      <td>0</td>\n",
       "    </tr>\n",
       "  </tbody>\n",
       "</table>\n",
       "<p>190 rows × 2 columns</p>\n",
       "</div>"
      ],
      "text/plain": [
       "label               correct  overfitting\n",
       "dataset                                 \n",
       "Defects4J-Chart-10        1            0\n",
       "Defects4J-Chart-11        3            0\n",
       "Defects4J-Chart-16        1            0\n",
       "Defects4J-Chart-2         1            0\n",
       "Defects4J-Chart-20        3            0\n",
       "...                     ...          ...\n",
       "Defects4J-Time-3          1            0\n",
       "Defects4J-Time-5          1            0\n",
       "Defects4J-Time-6          1            0\n",
       "Defects4J-Time-8          1            0\n",
       "Defects4J-Time-9          1            0\n",
       "\n",
       "[190 rows x 2 columns]"
      ]
     },
     "execution_count": 402,
     "metadata": {},
     "output_type": "execute_result"
    }
   ],
   "source": [
    "small_df_.loc[small_df_['overfitting'] == 0]"
   ]
  },
  {
   "cell_type": "code",
   "execution_count": 360,
   "metadata": {},
   "outputs": [
    {
     "data": {
      "text/html": [
       "<div>\n",
       "<style scoped>\n",
       "    .dataframe tbody tr th:only-of-type {\n",
       "        vertical-align: middle;\n",
       "    }\n",
       "\n",
       "    .dataframe tbody tr th {\n",
       "        vertical-align: top;\n",
       "    }\n",
       "\n",
       "    .dataframe thead th {\n",
       "        text-align: right;\n",
       "    }\n",
       "</style>\n",
       "<table border=\"1\" class=\"dataframe\">\n",
       "  <thead>\n",
       "    <tr style=\"text-align: right;\">\n",
       "      <th></th>\n",
       "      <th>Number of patches</th>\n",
       "      <th>Category</th>\n",
       "    </tr>\n",
       "  </thead>\n",
       "  <tbody>\n",
       "    <tr>\n",
       "      <th>707</th>\n",
       "      <td>0</td>\n",
       "      <td>Overfitting</td>\n",
       "    </tr>\n",
       "    <tr>\n",
       "      <th>708</th>\n",
       "      <td>0</td>\n",
       "      <td>Overfitting</td>\n",
       "    </tr>\n",
       "    <tr>\n",
       "      <th>709</th>\n",
       "      <td>1</td>\n",
       "      <td>Overfitting</td>\n",
       "    </tr>\n",
       "    <tr>\n",
       "      <th>710</th>\n",
       "      <td>0</td>\n",
       "      <td>Overfitting</td>\n",
       "    </tr>\n",
       "    <tr>\n",
       "      <th>711</th>\n",
       "      <td>0</td>\n",
       "      <td>Overfitting</td>\n",
       "    </tr>\n",
       "  </tbody>\n",
       "</table>\n",
       "</div>"
      ],
      "text/plain": [
       "     Number of patches     Category\n",
       "707                  0  Overfitting\n",
       "708                  0  Overfitting\n",
       "709                  1  Overfitting\n",
       "710                  0  Overfitting\n",
       "711                  0  Overfitting"
      ]
     },
     "execution_count": 360,
     "metadata": {},
     "output_type": "execute_result"
    }
   ],
   "source": [
    "data.tail()"
   ]
  },
  {
   "cell_type": "markdown",
   "metadata": {},
   "source": [
    "**Visualization of patch distribution**"
   ]
  },
  {
   "cell_type": "code",
   "execution_count": 436,
   "metadata": {},
   "outputs": [],
   "source": [
    "\n",
    "def plot_density_univariate(dataset, xlim = (0, 25)):\n",
    "    # \"figures_dir\" is a global variable\n",
    "    plt.figure(figsize=(5, 3))\n",
    "\n",
    "    data = pd.DataFrame({\n",
    "        \"Number of patches\": np.concatenate([dataset[\"correct\"] , dataset[\"overfitting\"] ]),\n",
    "        \"Category\": [\"Correct\" for i in range(len(dataset[\"correct\"]))] + [\"Overfitting\" for i in range(len(dataset[\"overfitting\"]))]\n",
    "    })\n",
    "\n",
    "    sns.kdeplot(\n",
    "        data=data, x=\"Number of patches\", hue=\"Category\", fill=True,  palette='colorblind', bw_adjust=1,)\n",
    "    \n",
    "    plt.xlim(xlim)\n",
    "    plt.savefig(os.path.join(figures_dir, dataset.name + \"_density_univariate.pdf\"), format = \"pdf\", dpi = 300, bbox_inches='tight')\n",
    "    plt.show()"
   ]
  },
  {
   "cell_type": "code",
   "execution_count": 437,
   "metadata": {},
   "outputs": [],
   "source": [
    "\n",
    "def plot_density_bivariate(dataset1, dataset2):\n",
    "\n",
    "    plt.figure(figsize=(5, 3))\n",
    "\n",
    "    data1 = pd.DataFrame({\n",
    "        \"correct\": dataset1[\"correct\"],\n",
    "        \"overfitting\": dataset1['overfitting'],         \n",
    "        \"Category\": [dataset1.name for i in range(len(dataset1))]\n",
    "    })\n",
    "\n",
    "    data2 = pd.DataFrame({\n",
    "        \"correct\": dataset2[\"correct\"],\n",
    "        \"overfitting\": dataset2['overfitting'],         \n",
    "        \"Category\": [dataset2.name for i in range(len(dataset2))]\n",
    "    })\n",
    "\n",
    "    long_df = pd.concat([data1, data2], ignore_index=True)\n",
    "    sns.displot( data=long_df, x=\"correct\", y = \"overfitting\", hue=\"Category\", fill=True,  palette='colorblind',  kind=\"kde\")\n",
    " \n",
    "    plt.xlim(-2, 100)\n",
    "    plt.ylim(-2, 100)\n",
    "    plt.savefig(os.path.join(figures_dir, \"dataset_density_bivariate.pdf\"), format = \"pdf\", dpi = 300, bbox_inches='tight')\n",
    "    plt.show()"
   ]
  },
  {
   "cell_type": "code",
   "execution_count": 438,
   "metadata": {},
   "outputs": [
    {
     "data": {
      "image/png": "[encoded data removed]",
      "text/plain": [
       "<Figure size 500x300 with 1 Axes>"
      ]
     },
     "metadata": {},
     "output_type": "display_data"
    }
   ],
   "source": [
    "plot_density_univariate(small_df_)"
   ]
  },
  {
   "cell_type": "code",
   "execution_count": 439,
   "metadata": {},
   "outputs": [
    {
     "data": {
      "image/png": "[encoded data removed]",
      "text/plain": [
       "<Figure size 500x300 with 1 Axes>"
      ]
     },
     "metadata": {},
     "output_type": "display_data"
    }
   ],
   "source": [
    "plot_density_univariate(large_df_, (0, 1000))"
   ]
  },
  {
   "cell_type": "markdown",
   "metadata": {},
   "source": [
    "**Since there is an uneven distribution of data in the dataset. We need to fix the balance or use different kinds of training**"
   ]
  },
  {
   "cell_type": "markdown",
   "metadata": {},
   "source": [
    "### Data Preprocessing\n",
    "\n",
    "1. "
   ]
  },
  {
   "cell_type": "code",
   "execution_count": 293,
   "metadata": {},
   "outputs": [
    {
     "data": {
      "text/plain": [
       "'public final class MathUtils { public static final double EPSILON = 0x1.0p-53; if (n < 0) { throw new IllegalArgumentException(\"must have n >= 0 for n!\"); } return Math.floor(Math.exp(factorialLog(n)) + 0.5); } '"
      ]
     },
     "execution_count": 293,
     "metadata": {},
     "output_type": "execute_result"
    }
   ],
   "source": [
    "small_patches_df.iloc[0]['buggy']"
   ]
  },
  {
   "cell_type": "markdown",
   "metadata": {},
   "source": [
    "# Implementation on the large_patches dataset"
   ]
  },
  {
   "cell_type": "code",
   "execution_count": 440,
   "metadata": {},
   "outputs": [],
   "source": [
    "def dataset_info(dataset):\n",
    "    print(f\"Total number of patches:  {dataset.shape[0]}\")\n",
    "    print(f\"Total number of unique bugs: {len(dataset['dataset'].unique())}\")\n",
    "    print(f\"Total number of correct patches: {len(dataset.loc[dataset['label'] == 'correct'])}\")\n",
    "    print(f\"Total number of overfitted patches: {len(dataset.loc[dataset['label'] == 'overfitting'])}\")\n",
    "    print(f\"Tools used: {dataset['tool'].unique()}\\nTotal number of tools: {len(dataset['tool'].unique())}\")"
   ]
  },
  {
   "cell_type": "code",
   "execution_count": 441,
   "metadata": {},
   "outputs": [
    {
     "name": "stdout",
     "output_type": "stream",
     "text": [
      "Total number of patches:  49694\n",
      "Total number of unique bugs: 855\n",
      "Total number of correct patches: 25589\n",
      "Total number of overfitted patches: 24105\n",
      "Tools used: ['jKali-DifferentFragPatches' 'GenProg-DifferentFilePatches'\n",
      " 'NPEfix-DifferentFragPatches' 'Kali' 'RSRepair-DifferentFilePatches'\n",
      " 'jMutRepair-DifferentFragPatches' 'GenProg-DifferentFragPatches'\n",
      " 'jGenProg-DifferentFragPatches' 'jKali' 'jKali-DifferentFilePatches'\n",
      " 'RSRepair-DifferentFragPatches' 'Kali-DifferentFragPatches'\n",
      " 'Arja-DifferentFilePatches' 'Dynamoth-DifferentFilePatches'\n",
      " 'Kali-DifferentFilePatches' 'Cardumen-DifferentFragPatches'\n",
      " 'Dynamoth-DifferentFragPatches' 'jGenProg'\n",
      " 'Cardumen-DifferentFilePatches' 'NPEFix' 'Nopol-DifferentFilePatches'\n",
      " 'Arja' 'Arja-DifferentFragPatches' 'RSRepair'\n",
      " 'NPEfix-DifferentFilePatches' 'Nopol-DifferentFragPatches'\n",
      " 'jMutRepair-DifferentFilePatches' 'jMutRepair' 'GenProg' 'DynaMoth'\n",
      " 'Cardumen' 'Nopol' 'Many']\n",
      "Total number of tools: 33\n"
     ]
    }
   ],
   "source": [
    "dataset_info(large_patches_df)"
   ]
  },
  {
   "cell_type": "code",
   "execution_count": 442,
   "metadata": {},
   "outputs": [
    {
     "data": {
      "text/plain": [
       "' final double ret; final double absX = org.apache.commons.math4.util.FastMath.abs(x); if (absX <= 20.0) { if (x >= 1.0) { '"
      ]
     },
     "execution_count": 442,
     "metadata": {},
     "output_type": "execute_result"
    }
   ],
   "source": [
    "large_patches_df.iloc[0]['buggy']"
   ]
  },
  {
   "cell_type": "code",
   "execution_count": 443,
   "metadata": {},
   "outputs": [],
   "source": [
    "large_df_ = pd.crosstab(large_patches_df[\"dataset\"], large_patches_df[\"label\"])\n",
    "large_df_.name = \"large_patches\""
   ]
  },
  {
   "cell_type": "code",
   "execution_count": 444,
   "metadata": {},
   "outputs": [
    {
     "name": "stdout",
     "output_type": "stream",
     "text": [
      "Has only incorrect patches: 233 \n",
      "Has only correct patches: 607 \n"
     ]
    },
    {
     "data": {
      "text/html": [
       "<div>\n",
       "<style scoped>\n",
       "    .dataframe tbody tr th:only-of-type {\n",
       "        vertical-align: middle;\n",
       "    }\n",
       "\n",
       "    .dataframe tbody tr th {\n",
       "        vertical-align: top;\n",
       "    }\n",
       "\n",
       "    .dataframe thead th {\n",
       "        text-align: right;\n",
       "    }\n",
       "</style>\n",
       "<table border=\"1\" class=\"dataframe\">\n",
       "  <thead>\n",
       "    <tr style=\"text-align: right;\">\n",
       "      <th>label</th>\n",
       "      <th>correct</th>\n",
       "      <th>overfitting</th>\n",
       "    </tr>\n",
       "    <tr>\n",
       "      <th>dataset</th>\n",
       "      <th></th>\n",
       "      <th></th>\n",
       "    </tr>\n",
       "  </thead>\n",
       "  <tbody>\n",
       "    <tr>\n",
       "      <th>ACRA.acra</th>\n",
       "      <td>28</td>\n",
       "      <td>0</td>\n",
       "    </tr>\n",
       "    <tr>\n",
       "      <th>Activiti.Activiti</th>\n",
       "      <td>71</td>\n",
       "      <td>0</td>\n",
       "    </tr>\n",
       "    <tr>\n",
       "      <th>Alluxio.alluxio</th>\n",
       "      <td>289</td>\n",
       "      <td>0</td>\n",
       "    </tr>\n",
       "    <tr>\n",
       "      <th>AltBeacon.android-beacon-library</th>\n",
       "      <td>8</td>\n",
       "      <td>0</td>\n",
       "    </tr>\n",
       "    <tr>\n",
       "      <th>AndroidBootstrap.android-bootstrap</th>\n",
       "      <td>2</td>\n",
       "      <td>0</td>\n",
       "    </tr>\n",
       "  </tbody>\n",
       "</table>\n",
       "</div>"
      ],
      "text/plain": [
       "label                               correct  overfitting\n",
       "dataset                                                 \n",
       "ACRA.acra                                28            0\n",
       "Activiti.Activiti                        71            0\n",
       "Alluxio.alluxio                         289            0\n",
       "AltBeacon.android-beacon-library          8            0\n",
       "AndroidBootstrap.android-bootstrap        2            0"
      ]
     },
     "execution_count": 444,
     "metadata": {},
     "output_type": "execute_result"
    }
   ],
   "source": [
    "print(f\"Has only incorrect patches: {len(large_df_.loc[large_df_['correct'] == 0])} \")\n",
    "print(f\"Has only correct patches: {len(large_df_.loc[large_df_['overfitting'] == 0])} \")\n",
    "large_df_.head()"
   ]
  },
  {
   "cell_type": "code",
   "execution_count": 445,
   "metadata": {},
   "outputs": [
    {
     "data": {
      "text/plain": [
       "855"
      ]
     },
     "execution_count": 445,
     "metadata": {},
     "output_type": "execute_result"
    }
   ],
   "source": [
    "len(large_df_)"
   ]
  },
  {
   "cell_type": "code",
   "execution_count": 19,
   "metadata": {},
   "outputs": [
    {
     "data": {
      "text/plain": [
       "array(['Bugs.jar-math-45', 'Defects4J-Chart-5', 'Defects4J-Math-8',\n",
       "       'Bears-139', 'Defects4J-Closure-10', 'Bugs.jar-math-24',\n",
       "       'Defects4J-Closure-13', 'QuixBugs-DEPTH_FIRST_SEARCH-',\n",
       "       'Bugs.jar-math-33', 'Bugs.jar-math-28', 'Defects4J-Math-20',\n",
       "       'Bears-126', 'Defects4J-Chart-1', 'Defects4J-Closure-21',\n",
       "       'Defects4J-Closure-67', 'Defects4J-Lang-7', 'Defects4J-Math-50',\n",
       "       'Defects4J-Closure-130', 'Defects4J-Closure-59',\n",
       "       'Defects4J-Math-22', 'Defects4J-Math-31', 'Defects4J-Math-95',\n",
       "       'Defects4J-Closure-118', 'Bugs.jar-math-105', 'Defects4J-Math-49',\n",
       "       'Defects4J-Closure-55', 'Defects4J-Closure-22', 'Defects4J-Math-2',\n",
       "       'Defects4J-Closure-46', 'Defects4J-Math-40',\n",
       "       'Defects4J-Closure-124', 'Defects4J-Closure-112',\n",
       "       'Defects4J-Closure-127', 'Defects4J-Closure-117',\n",
       "       'Defects4J-Math-28', 'Defects4J-Closure-115', 'Defects4J-Math-85',\n",
       "       'Defects4J-Closure-75', 'Defects4J-Chart-12',\n",
       "       'Defects4J-Closure-129', 'Defects4J-Closure-78',\n",
       "       'Defects4J-Math-103', 'Defects4J-Closure-1', 'Bugs.jar-math-62',\n",
       "       'Bugs.jar-math-18', 'Defects4J-Closure-119', 'Bugs.jar-math-15',\n",
       "       'Defects4J-Closure-33', 'Defects4J-Math-73', 'Defects4J-Chart-25',\n",
       "       'Defects4J-Closure-126', 'Defects4J-Chart-16', 'Bears-149',\n",
       "       'QuixBugs-HANOI-', 'Bugs.jar-math-67', 'Defects4J-Closure-122',\n",
       "       'Bears-98', 'Bears-210', 'Bears-100', 'Defects4J-Math-32',\n",
       "       'QuixBugs-QUICKSORT-', 'Bugs.jar-accumulo-42', 'Bugs.jar-math-61',\n",
       "       'Defects4J-Math-80', 'Defects4J-Math-60', 'Defects4J-Chart-7',\n",
       "       'Defects4J-Chart-15', 'Defects4J-Math-74', 'Defects4J-Math-71',\n",
       "       'Defects4J-Chart-3', 'Defects4J-Math-81', 'Defects4J-Chart-13',\n",
       "       'QuixBugs-LIS-', 'Bears-188', 'Bugs.jar-math-9',\n",
       "       'Defects4J-Math-70', 'QuixBugs-SHORTEST_PATH_LENGTHS-',\n",
       "       'Defects4J-Math-84', 'Defects4J-Math-64', 'Bugs.jar-math-25',\n",
       "       'Defects4J-Lang-63', 'Defects4J-Math-56', 'Defects4J-Math-68',\n",
       "       'Defects4J-Lang-51', 'Defects4J-Lang-45', 'Defects4J-Math-39',\n",
       "       'Bears-127', 'Bugs.jar-accumulo-62', 'Defects4J-Closure-7',\n",
       "       'Defects4J-Closure-68', 'Bugs.jar-accumulo-46',\n",
       "       'Defects4J-Lang-44', 'Bears-194', 'Bugs.jar-accumulo-41',\n",
       "       'Defects4J-Closure-62', 'Bears-104', 'Bears-89',\n",
       "       'Bugs.jar-accumulo-31', 'Bugs.jar-accumulo-21',\n",
       "       'Defects4J-Math-58', 'Defects4J-Closure-20', 'Defects4J-Closure-3',\n",
       "       'Bugs.jar-OAK-17', 'Defects4J-Closure-133', 'Bears-223',\n",
       "       'Bugs.jar-math-83', 'Defects4J-Closure-15',\n",
       "       'Defects4J-Closure-125', 'Bugs.jar-OAK-256',\n",
       "       'Defects4J-Mockito-10', 'Defects4J-Math-82', 'Defects4J-Chart-14',\n",
       "       'Defects4J-Closure-31', 'Defects4J-Closure-45', 'Bears-121',\n",
       "       'Defects4J-Closure-132', 'Bugs.jar-OAK-255', 'Defects4J-Chart-19',\n",
       "       'Defects4J-Closure-8', 'Defects4J-Closure-120',\n",
       "       'Bugs.jar-maven-33', 'Defects4J-Closure-114',\n",
       "       'Defects4J-Closure-12', 'Defects4J-Closure-116',\n",
       "       'Bugs.jar-flink-27', 'Defects4J-Closure-121', 'Bugs.jar-flink-6',\n",
       "       'Bugs.jar-math-51', 'Defects4J-Lang-58', 'Bugs.jar-accumulo-10',\n",
       "       'Bears-101', 'Bugs.jar-math-1', 'Bugs.jar-accumulo-75',\n",
       "       'Bugs.jar-OAK-246', 'Defects4J-Time-11', 'Defects4J-Closure-53',\n",
       "       'Bugs.jar-accumulo-11', 'Bugs.jar-math-14', 'Bugs.jar-log4j2-26',\n",
       "       'Bugs.jar-OAK-153', 'Defects4J-Closure-111', 'Bugs.jar-math-65',\n",
       "       'Bugs.jar-math-48', 'Bugs.jar-flink-4', 'Bugs.jar-accumulo-95',\n",
       "       'Bugs.jar-log4j2-69', 'Defects4J-Chart-18', 'Bugs.jar-flink-5',\n",
       "       'Bugs.jar-log4j2-63', 'Bugs.jar-math-86', 'Bugs.jar-wicket-164',\n",
       "       'Bugs.jar-math-80', 'Bugs.jar-wicket-232', 'Bugs.jar-accumulo-55',\n",
       "       'Bugs.jar-flink-23', 'Bugs.jar-OAK-69', 'Bugs.jar-wicket-147',\n",
       "       'Bugs.jar-math-66', 'Bugs.jar-OAK-129', 'Bugs.jar-OAK-185',\n",
       "       'Bugs.jar-flink-48', 'Bugs.jar-OAK-130', 'Defects4J-Closure-64',\n",
       "       'Bugs.jar-wicket-264', 'Defects4J-Chart-26', 'Bugs.jar-wicket-255',\n",
       "       'Bears-206', 'Defects4J-Chart-6', 'Defects4J-Mockito-8',\n",
       "       'Bugs.jar-math-141', 'Bugs.jar-OAK-97', 'Bugs.jar-OAK-243',\n",
       "       'Defects4J-Closure-19', 'Bugs.jar-math-55', 'Bugs.jar-math-50',\n",
       "       'Bugs.jar-flink-18', 'Bugs.jar-OAK-169', 'Defects4J-Chart-8',\n",
       "       'Bugs.jar-math-142', 'Defects4J-Closure-48', 'Bugs.jar-math-113',\n",
       "       'Defects4J-Math-105', 'Bugs.jar-OAK-224', 'Defects4J-Math-41',\n",
       "       'Bugs.jar-math-88', 'Bugs.jar-flink-70', 'Bugs.jar-log4j2-60',\n",
       "       'QuixBugs-DETECT_CYCLE-', 'Bugs.jar-math-101',\n",
       "       'Defects4J-Closure-16', 'Bugs.jar-math-23', 'Bugs.jar-log4j2-67',\n",
       "       'Bugs.jar-math-16', 'Bugs.jar-accumulo-16', 'Bugs.jar-accumulo-76',\n",
       "       'Defects4J-Closure-14', 'Defects4J-Chart-21', 'Defects4J-Math-78',\n",
       "       'Defects4J-Math-76', 'Bears-250', 'Defects4J-Closure-50',\n",
       "       'Bugs.jar-OAK-248', 'Defects4J-Closure-60', 'Defects4J-Closure-61',\n",
       "       'Defects4J-Closure-26', 'Bugs.jar-OAK-259', 'Defects4J-Math-24',\n",
       "       'Bugs.jar-math-100', 'Defects4J-Math-4', 'Defects4J-Lang-22',\n",
       "       'Defects4J-Lang-43', 'Defects4J-Lang-39', 'Bugs.jar-math-85',\n",
       "       'Defects4J-Lang-55', 'Defects4J-Lang-20', 'Defects4J-Lang-27',\n",
       "       'Defects4J-Lang-61', 'Defects4J-Lang-59', 'Bears-230',\n",
       "       'Defects4J-Math-98', 'Defects4J-Math-5', 'Defects4J-Math-53',\n",
       "       'Defects4J-Lang-16', 'Defects4J-Lang-50', 'Bugs.jar-math-17',\n",
       "       'Defects4J-Lang-60', 'Defects4J-Mockito-6', 'Bugs.jar-OAK-237',\n",
       "       'Defects4J-Math-42', 'Bugs.jar-log4j2-72', 'Defects4J-Math-18',\n",
       "       'Defects4J-Lang-53', 'Bugs.jar-log4j2-70', 'Bugs.jar-flink-17',\n",
       "       'Bugs.jar-log4j2-16', 'Defects4J-Chart-17', 'Defects4J-Math-7',\n",
       "       'Bugs.jar-log4j2-61', 'Defects4J-Time-14', 'Defects4J-Math-33',\n",
       "       'Bugs.jar-accumulo-78', 'Bugs.jar-OAK-176', 'Defects4J-Chart-4',\n",
       "       'Bugs.jar-math-129', 'Defects4J-Math-69', 'Defects4J-Math-87',\n",
       "       'Defects4J-Math-88', 'QuixBugs-SQRT-', 'QuixBugs-LEVENSHTEIN-',\n",
       "       'QuixBugs-RPN_EVAL-', 'Defects4J-Chart-11', 'Defects4J-Lang-46',\n",
       "       'google.google-java-format', 'lipangit.JiaoZiVideoPlayer',\n",
       "       'google.volley', 'google.tink', 'auth0.java-jwt',\n",
       "       'essentials.Essentials', 'PhilJay.MPAndroidChart', 'AriaLyy.Aria',\n",
       "       'spring-cloud.spring-cloud-netflix', 'geoserver.geoserver',\n",
       "       'CyberAgent.android-gpuimage', 'stephanenicolas.robospice',\n",
       "       'bigbluebutton.bigbluebutton', 'apache.shiro', 'notnoop.java-apns',\n",
       "       'flyway.flyway', 'BuildCraft.BuildCraft', 'coobird.thumbnailator',\n",
       "       'alibaba.atlas', 'dreamhead.moco', 'Polidea.RxAndroidBle',\n",
       "       'twitter.heron', 'square.wire', 'koush.AndroidAsync',\n",
       "       'iluwatar.java-design-patterns', 'jamesdbloom.mockserver',\n",
       "       'tananaev.traccar', 'actorapp.actor-platform', 'requery.requery',\n",
       "       'Tencent.GT', 'apache.ignite', 'bingoogolapple.BGABanner-Android',\n",
       "       'wdullaer.MaterialDateTimePicker', 'maurycyw.StaggeredGridView',\n",
       "       'joelittlejohn.jsonschema2pojo', 'sparklemotion.nokogiri',\n",
       "       'brianfrankcooper.YCSB',\n",
       "       'react-community.react-native-image-picker', 'JetBrains.ideavim',\n",
       "       'spring-projects.spring-boot', 'kickstarter.android-oss',\n",
       "       'wingjay.jianshi', 'netty.netty', 'java-native-access.jna',\n",
       "       'jitsi.jitsi', 'elastic.elasticsearch-hadoop',\n",
       "       'cucumber.cucumber-jvm', 'jOOQ.jOOQ', 'ben-manes.caffeine',\n",
       "       'ChrisRM.material-theme-jetbrains', 'igniterealtime.Smack',\n",
       "       'springside.springside4', 'reactor.reactor-core',\n",
       "       'nickbutcher.plaid', 'SpigotMC.BungeeCord', 'gitblit.gitblit',\n",
       "       'zouzg.mybatis-generator-gui', 'processing.processing',\n",
       "       'Tencent.VasSonic', 'zmxv.react-native-sound',\n",
       "       'orhanobut.dialogplus', 'apache.kylin', 'liquibase.liquibase',\n",
       "       'wequick.Small', 'android.platform_frameworks_base',\n",
       "       'yigit.android-priority-jobqueue', 'satyan.sugar',\n",
       "       'tbruyelle.RxPermissions', 'fabric8io.fabric8', 'looly.hutool',\n",
       "       'chrisbanes.philm', 'MyCATApache.Mycat-Server',\n",
       "       'davideas.FlexibleAdapter',\n",
       "       'material-components.material-components-android',\n",
       "       'yasserg.crawler4j', 'zcweng.ToggleButton', 'osmdroid.osmdroid',\n",
       "       'wildfly.wildfly', 'eclipse.che', 'qos-ch.logback',\n",
       "       'nicolasgramlich.AndEngine', 'spotify.docker-maven-plugin',\n",
       "       'googlesamples.google-services', 'yangfuhai.afinal',\n",
       "       'rstudio.rstudio', 'prolificinteractive.material-calendarview',\n",
       "       'ACRA.acra', 'proxyee-down-org.proxyee-down',\n",
       "       'rubensousa.RecyclerViewSnap', 'flavioarfaria.KenBurnsView',\n",
       "       'Activiti.Activiti', 'tyrantgit.ExplosionField',\n",
       "       'daimajia.NumberProgressBar', 'JoanZapata.android-iconify',\n",
       "       'TeamNewPipe.NewPipe', 'trello.RxLifecycle',\n",
       "       'chrisbanes.ActionBar-PullToRefresh',\n",
       "       'Bearded-Hen.Android-Bootstrap', 'cbeust.testng',\n",
       "       'ctripcorp.apollo', 'grantland.android-autofittextview',\n",
       "       'sk89q.WorldEdit', 'gephi.gephi', 'PaoloRotolo.AppIntro',\n",
       "       'grpc.grpc-java', 'stleary.JSON-java', 'spring-io.sagan',\n",
       "       'BelooS.ChipsLayoutManager', 'keyboardsurfer.Crouton',\n",
       "       'ronmamo.reflections', 'eclipse.jetty.project',\n",
       "       'gabrielemariotti.cardslib', 'johncarl81.parceler',\n",
       "       'ankidroid.Anki-Android',\n",
       "       'oguzbilgener.CircularFloatingActionMenu', 'rockerhieu.emojicon',\n",
       "       'pagehelper.Mybatis-PageHelper', 'Netflix.SimianArmy',\n",
       "       'geeeeeeeeek.WeChatLuckyMoney', 'jankotek.mapdb',\n",
       "       'dropwizard.dropwizard', 'google.binnavi',\n",
       "       'signalapp.Signal-Android', 'NLPchina.ansj_seg',\n",
       "       'BroadleafCommerce.BroadleafCommerce',\n",
       "       'andkulikov.transitions-everywhere', 'Trinea.android-common',\n",
       "       'antlr.antlr4', 'ToxicBakery.ViewPagerTransforms',\n",
       "       'apl-devs.AppIntro', 'dangdangdotcom.sharding-jdbc',\n",
       "       'chrisjenx.Calligraphy', 'arduino.Arduino',\n",
       "       'JakeWharton.NineOldAndroids', 'puniverse.quasar',\n",
       "       'graphhopper.graphhopper', 'azkaban.azkaban', 'uber.NullAway',\n",
       "       'MovingBlocks.Terasology', 'mybatis.generator',\n",
       "       'apache.incubator-dubbo-spring-boot-project',\n",
       "       'chrisbanes.Android-PullToRefresh', 'apache.hive',\n",
       "       'kevinsawicki.http-request', 'osmandapp.Osmand',\n",
       "       'vinc3m1.RoundedImageView', 'shwenzhang.AndResGuard',\n",
       "       'languagetool-org.languagetool', 'JetBrains.kotlin',\n",
       "       'libgdx.libgdx', 'wordpress-mobile.WordPress-Android',\n",
       "       'swagger-api.swagger-codegen', 'junit-team.junit',\n",
       "       'bytedeco.javacv', 'Atmosphere.atmosphere',\n",
       "       'bauerca.drag-sort-listview',\n",
       "       'h6ah4i.android-advancedrecyclerview', 'JakeWharton.butterknife',\n",
       "       'geometer.FBReaderJ', 'rzwitserloot.lombok', 'romannurik.muzei',\n",
       "       'androidquery.androidquery', 'spring-projects.spring-data-mongodb',\n",
       "       'go-lang-plugin-org.go-lang-idea-plugin',\n",
       "       'JetBrains.intellij-plugins', 'apache.drill', 'dbeaver.dbeaver',\n",
       "       'seven332.EhViewer', 'lucasr.twoway-view',\n",
       "       'jMonkeyEngine.jmonkeyengine', 'zetbaitsu.Compressor',\n",
       "       'apereo.cas', 'google.j2objc', 'docker-java.docker-java',\n",
       "       'apache.maven', 'umano.AndroidSlidingUpPanel',\n",
       "       'firebase.FirebaseUI-Android', 'pedrovgs.DraggablePanel',\n",
       "       'square.dagger', 'quartz-scheduler.quartz', 'confluentinc.ksql',\n",
       "       'k9mail.k-9', 'florent37.MaterialViewPager',\n",
       "       'Bilibili.DanmakuFlameMaster', 'jersey.jersey',\n",
       "       'Grover-c13.PokeGOAPI-Java', 'pahimar.Equivalent-Exchange-3',\n",
       "       'JakeWharton.timber', 'liferay.liferay-plugins',\n",
       "       'pardom.ActiveAndroid', 'rengwuxian.MaterialEditText',\n",
       "       'yarolegovich.DiscreteScrollView', 'Graylog2.graylog2-server',\n",
       "       'google.physical-web', 'oblac.jodd', 'etsy.AndroidStaggeredGrid',\n",
       "       'Bilibili.MagicaSakura', 'owncloud.android',\n",
       "       'jcoleman.tomcat-redis-session-manager', 'google.guava',\n",
       "       'elastic.elasticsearch', 'LMAX-Exchange.disruptor',\n",
       "       'chewiebug.GCViewer', 'Cleveroad.slidingtutorial-android',\n",
       "       'MinecraftForge.MinecraftForge',\n",
       "       'yqritc.RecyclerView-FlexibleDivider',\n",
       "       'deeplearning4j.deeplearning4j', 'stanfordnlp.CoreNLP',\n",
       "       'spring-cloud.spring-cloud-config', 'fqrouter.fqrouter',\n",
       "       'apache.zookeeper', 'yanzhenjie.NoHttp', 'h2oai.h2o-3',\n",
       "       'spring-projects.spring-data-jpa', 'tyzlmjj.PagerBottomTabStrip',\n",
       "       'square.moshi', 'alibaba.Dragonfly', 'bluelinelabs.LoganSquare',\n",
       "       'bingoogolapple.BGABadgeView-Android', 'internetarchive.heritrix3',\n",
       "       'iBotPeaches.Apktool', 'cglib.cglib', 'facebook.react-native',\n",
       "       'qiujuer.Genius-Android', 'undertow-io.undertow',\n",
       "       'k0shk0sh.FastHub', 'graphql-java.graphql-java',\n",
       "       'spockframework.spock', 'zhihu.Matisse', 'jgilfelt.SystemBarTint',\n",
       "       'deano2390.MaterialShowcaseView', 'Red5.red5-server',\n",
       "       'eishay.jvm-serializers', 'tronprotocol.java-tron',\n",
       "       'Alluxio.alluxio', 'neo4j.neo4j', 'unclebob.fitnesse',\n",
       "       'ragunathjawahar.android-saripaar',\n",
       "       'playgameservices.android-basic-samples',\n",
       "       'airbnb.native-navigation', 'JetBrains.intellij-community',\n",
       "       'ninjaframework.ninja', 'igniterealtime.Openfire',\n",
       "       'cryptomator.cryptomator', 'vert-x3.vertx-examples',\n",
       "       'json-path.JsonPath', 'socketio.socket.io-client-java',\n",
       "       'koush.ion', 'facebook.presto',\n",
       "       'HotBitmapGG.bilibili-android-client', 'wireapp.wire-android',\n",
       "       'apache.hbase', 'clojure.clojure', 'nathanmarz.storm-starter',\n",
       "       'CJT2325.CameraView', 'openaphid.android-flip',\n",
       "       'greenrobot.EventBus', 'facebook.fresco',\n",
       "       'react-native-community.react-native-camera', 'OpenTSDB.opentsdb',\n",
       "       'Netflix.zuul', 'mybatis.spring', 'rovo89.XposedInstaller',\n",
       "       'rakeshcusat.Code4Reference', 'mikepenz.AboutLibraries',\n",
       "       'google.flexbox-layout', 'gocd.gocd',\n",
       "       'googlemaps.android-maps-utils', 'careercup.CtCI-6th-Edition',\n",
       "       'commonsguy.cw-android', 'kaushikgopal.RxJava-Android-Samples',\n",
       "       'javamelody.javamelody', 'apache.camel', 'google.iosched',\n",
       "       'nextcloud.android', 'JesusFreke.smali', 'liferay.liferay-portal',\n",
       "       'mongodb.mongo-java-driver', 'Microsoft.malmo', 'naman14.Timber',\n",
       "       'square.android-times-square', 'zaproxy.zaproxy',\n",
       "       'wyouflf.xUtils3', 'rovo89.XposedBridge', 'Netflix.Hystrix',\n",
       "       'lecho.hellocharts-android', 'yu199195.hmily', 'termux.termux-app',\n",
       "       'zo0r.react-native-push-notification', 'roboguice.roboguice',\n",
       "       'bitcoinj.bitcoinj', 'spring-projects.spring-batch',\n",
       "       'cs125-illinois.Lab6', 'spring-projects.spring-framework',\n",
       "       'journeyapps.zxing-android-embedded', 'facebook.buck',\n",
       "       'qii.weiciyuan', 'sarxos.webcam-capture', 'lionsoul2014.ip2region',\n",
       "       'CellularPrivacy.Android-IMSI-Catcher-Detector',\n",
       "       'florent37.DiagonalLayout', 'airbnb.epoxy', 'square.picasso',\n",
       "       'johannilsson.android-pulltorefresh',\n",
       "       'jackpal.Android-Terminal-Emulator', 'realm.realm-java',\n",
       "       'ethereum.ethereumj', 'daimajia.AndroidImageSlider',\n",
       "       'apache.hadoop', 'dmytrodanylyk.circular-progress-button',\n",
       "       'begeekmyfriend.yasea', 'SpecialCyCi.AndroidResideMenu',\n",
       "       'nathanmarz.storm', 'yusuke.twitter4j', 'amlcurran.ShowcaseView',\n",
       "       'douglascraigschmidt.POSA-14', 'alamkanak.Android-Week-View',\n",
       "       'FasterXML.jackson-databind', 'GoogleContainerTools.jib',\n",
       "       'raphw.byte-buddy', 'pxb1988.dex2jar', 'rey5137.material',\n",
       "       'resilience4j.resilience4j', 'apache.kafka', 'apache.beam',\n",
       "       'ZieIony.Carbon', 'skylot.jadx', 'CalebFenton.simplify',\n",
       "       'federicoiosue.Omni-Notes', 'SpringSource.spring-framework',\n",
       "       'AsyncHttpClient.async-http-client', 'perwendel.spark',\n",
       "       'facebook.stetho', 'JanusGraph.janusgraph',\n",
       "       'ManuelPeinado.FadingActionBar', 'alibaba.druid', 'apache.groovy',\n",
       "       'voldemort.voldemort', 'yinwang0.pysonar2', 'apache.commons-lang',\n",
       "       'donglua.PhotoPicker', 'redisson.redisson', 'groovy.groovy-core',\n",
       "       'apache.nifi', 'openhab.openhab2-addons', 'ata4.disunity',\n",
       "       'knightliao.disconf', 'tomakehurst.wiremock', 'M66B.XPrivacy',\n",
       "       'crate.crate', 'alibaba.fastjson', 'pentaho.pentaho-kettle',\n",
       "       'bitcoin-wallet.bitcoin-wallet', 'pubnub.java',\n",
       "       'spring-projects.spring-session', 'pedrovgs.EffectiveAndroidUI',\n",
       "       'Netflix.eureka', 'lingochamp.FileDownloader', 'apache.zeppelin',\n",
       "       'Rajawali.Rajawali', 'hazelcast.hazelcast', 'square.okhttp',\n",
       "       'alibaba.jstorm', 'CymChad.BaseRecyclerViewAdapterHelper',\n",
       "       'lsjwzh.RecyclerViewPager', 'apache.lucene-solr',\n",
       "       'bazelbuild.bazel', 'datastax.java-driver', 'ReactiveX.RxJava',\n",
       "       'web3j.web3j', 'apache.cassandra', 'KeepSafe.TapTargetView',\n",
       "       'evernote.android-job', 'JakeWharton.RxBinding', 'Tencent.tinker',\n",
       "       'GoogleCloudPlatform.java-docs-samples', 'hidroh.materialistic',\n",
       "       'googlesamples.android-topeka', 'keycloak.keycloak',\n",
       "       'MikeOrtiz.TouchImageView', 'google.closure-compiler',\n",
       "       'M66B.NetGuard', 'timmolter.XChange',\n",
       "       'EnterpriseQualityCoding.FizzBuzzEnterpriseEdition',\n",
       "       'soarcn.BottomSheet', 'sockeqwe.mosby', 'eclipse.smarthome',\n",
       "       'roughike.BottomBar', 'jhy.jsoup', 'facebook.litho',\n",
       "       'Netflix.archaius', 'emilsjolander.StickyListHeaders',\n",
       "       'googlemaps.android-samples', 'DroidPluginTeam.DroidPlugin',\n",
       "       'Diolor.Swipecards', 'NLPchina.elasticsearch-sql', 'google.guice',\n",
       "       'JoanZapata.android-pdfview', 'JakeWharton.ActionBarSherlock',\n",
       "       'h2database.h2database', 'naver.pinpoint', 'JabRef.jabref',\n",
       "       'bumptech.glide', 'openhab.openhab',\n",
       "       'facebook.facebook-android-sdk', 'codecentric.spring-boot-admin',\n",
       "       'Freeyourgadget.Gadgetbridge', 'apache.avro',\n",
       "       'crazycodeboy.TakePhoto', 'twitter.commons', 'alibaba.otter',\n",
       "       'spring-projects.spring-loaded', 'java8.Java8InAction',\n",
       "       'codeestX.GeekNews', 'JodaOrg.joda-time', 'scribejava.scribejava',\n",
       "       'apache.cordova-android', 'Tencent.angel',\n",
       "       'androidannotations.androidannotations', 'runelite.runelite',\n",
       "       'linkedin.pinot', 'square.flow',\n",
       "       'phishman3579.java-algorithms-implementation', 'xetorthio.jedis',\n",
       "       'real-logic.Aeron', 'apache.cordova-plugin-inappbrowser',\n",
       "       'aws.aws-sdk-java', 'junit-team.junit5', 'inorichi.tachiyomi',\n",
       "       'Prototik.HoloEverywhere',\n",
       "       'ksoichiro.Android-ObservableScrollView',\n",
       "       'deeplearning4j.dl4j-examples', 'Yalantis.GuillotineMenu-Android',\n",
       "       'querydsl.querydsl', 'biezhi.blade',\n",
       "       'FreeTymeKiyan.LeetCode-Sol-Res', 'code4craft.webmagic',\n",
       "       'yusugomori.DeepLearning', 'iammert.MaterialIntroView',\n",
       "       'oracle.graal', 'RobotiumTech.robotium',\n",
       "       'firebase.quickstart-android', 'LitePalFramework.LitePal',\n",
       "       'JakeWharton.u2020', 'hs-web.hsweb-framework',\n",
       "       'redsolution.xabber-android', 'airbnb.aerosolve',\n",
       "       'jfeinstein10.SlidingMenu', 'swagger-api.swagger-core',\n",
       "       'AltBeacon.android-beacon-library', 'apache.tomcat',\n",
       "       'brettwooldridge.HikariCP', 'jfoenixadmin.JFoenix',\n",
       "       'googlesamples.android-play-location', 'resteasy.Resteasy',\n",
       "       'apache.nutch', 'reactive-streams.reactive-streams-jvm',\n",
       "       'greenrobot.greenDAO', 'YiiGuxing.TranslationPlugin',\n",
       "       'alibaba.LuaViewSDK', 'thingsboard.thingsboard', 'apache.cxf',\n",
       "       'plutext.docx4j', 'guoguibing.librec', 'fyhertz.libstreaming',\n",
       "       'mrniko.netty-socketio', 'cer.event-sourcing-examples',\n",
       "       'Konloch.bytecode-viewer', 'apache.ambari',\n",
       "       'googlemaps.google-maps-services-java', 'mybatis.mybatis-3',\n",
       "       'mission-peace.interview', 'alibaba.cobar', 'iSoron.uhabits',\n",
       "       'JSQLParser.JSqlParser', 'anthonycr.Lightning-Browser',\n",
       "       'checkstyle.checkstyle', 'flavienlaurent.datetimepicker',\n",
       "       'TonicArtos.SuperSLiM', 'jprante.elasticsearch-jdbc',\n",
       "       'AntennaPod.AntennaPod', 'sherxon.AlgoDS',\n",
       "       'google.android-classyshark', 'Athou.commafeed',\n",
       "       'openmrs.openmrs-core', 'AndroidBootstrap.android-bootstrap',\n",
       "       'Froussios.Intro-To-RxJava', 'hanks-zyh.HTextView',\n",
       "       'Raizlabs.DBFlow', 'spring-projects.spring-security-oauth',\n",
       "       'katzer.cordova-plugin-local-notifications',\n",
       "       'rubenlagus.TelegramBots', 'diogobernardino.WilliamChart',\n",
       "       'esoxjem.MovieGuide', 'HoraApps.LeafPic', 'kabouzeid.Phonograph',\n",
       "       'NanoHttpd.nanohttpd', 'hibernate.hibernate-orm',\n",
       "       'razerdp.BasePopup', 'spring-projects.spring-security',\n",
       "       'Devlight.NavigationTabBar', 'mikepenz.Android-Iconics',\n",
       "       'moezbhatti.qksms', 'google.error-prone',\n",
       "       'ltsopensource.light-task-scheduler',\n",
       "       'arimorty.floatingsearchview', 'claritylab.lucida',\n",
       "       'orfjackal.retrolambda', 'changmingxie.tcc-transaction',\n",
       "       'Malinskiy.SuperRecyclerView', 'wasabeef.glide-transformations',\n",
       "       'apache.activemq', 'searchbox-io.Jest', 'jjoe64.GraphView',\n",
       "       'javaparser.javaparser', 'zxing.zxing',\n",
       "       'afollestad.material-dialogs', 'siacs.Conversations',\n",
       "       'square.retrofit', 'airbnb.lottie-android',\n",
       "       'testcontainers.testcontainers-java', 'loopj.android-async-http',\n",
       "       'Bukkit.Bukkit', 'jpush.aurora-imui', 'TheAlgorithms.Java',\n",
       "       'timehop.sticky-headers-recyclerview', 'typesafehub.config',\n",
       "       'Karumi.Dexter', 'TheFinestArtist.FinestWebView-Android',\n",
       "       'Jacksgong.JKeyboardPanelSwitch', 'Netflix.ribbon',\n",
       "       'capitalone.Hygieia', 'antoniolg.androidmvp', 'btraceio.btrace',\n",
       "       'dropwizard.metrics', 'rest-assured.rest-assured',\n",
       "       'SonarSource.sonarqube', 'LuckyJayce.ViewPagerIndicator',\n",
       "       'apache.flume', 'javaee-samples.javaee7-samples',\n",
       "       'lzyzsd.CircleProgress', 'grails.grails-core',\n",
       "       'cymcsg.UltimateRecyclerView', 'opendatakit.collect',\n",
       "       'Flipboard.bottomsheet', 'nhaarman.ListViewAnimations',\n",
       "       'droolsjbpm.drools', 'apache.flink',\n",
       "       'eirslett.frontend-maven-plugin', 'mikepenz.FastAdapter',\n",
       "       'mcxiaoke.android-volley', 'apache.mahout',\n",
       "       'RichardWarburton.java-8-lambdas-exercises',\n",
       "       'koral--.android-gif-drawable', 'apache.jmeter',\n",
       "       'mikepenz.MaterialDrawer', 'Netflix.curator', 'haifengl.smile',\n",
       "       'square.leakcanary', 'jboss-javassist.javassist',\n",
       "       'citerus.dddsample-core', 'hotchemi.PermissionsDispatcher',\n",
       "       'cymcsg.UltimateAndroid',\n",
       "       'nostra13.Android-Universal-Image-Loader', 'jgilfelt.chuck',\n",
       "       'Aspsine.SwipeToLoadLayout', 'gradle.gradle',\n",
       "       'thinkaurelius.titan', 'alibaba.canal', 'guardianproject.haven',\n",
       "       'chanjarster.weixin-java-tools', 'chrisbanes.PhotoView',\n",
       "       'alibaba.dubbo', 'eclipse.vert.x', 'commonsguy.cw-omnibus',\n",
       "       'apache.curator', 'google.auto', 'Fotoapparat.Fotoapparat',\n",
       "       'yui.yuicompressor', 'todoroo.astrid', 'google.ExoPlayer',\n",
       "       'amitshekhariitbhu.Fast-Android-Networking', 'vespa-engine.vespa',\n",
       "       'apache.rocketmq', 'spring-projects.spring-data-elasticsearch',\n",
       "       'ikew0ng.SwipeBackLayout', 'apache.calcite', 'druid-io.druid',\n",
       "       'danikula.AndroidVideoCache', 'OpenRefine.OpenRefine',\n",
       "       'square.javapoet', 'bytedeco.javacpp', 'nutzam.nutz',\n",
       "       'jeasonlzy.okhttp-OkGo', 'pakerfeldt.android-viewflow',\n",
       "       'googlesamples.android-play-billing', 'mockito.mockito',\n",
       "       'apache.storm', 'WritingMinds.ffmpeg-android-java',\n",
       "       'OpenGenus.cosmos', 'youtube.api-samples', 'ReactiveX.RxAndroid',\n",
       "       'QuixBugs-KNAPSACK-'], dtype=object)"
      ]
     },
     "execution_count": 19,
     "metadata": {},
     "output_type": "execute_result"
    }
   ],
   "source": [
    "large_patches_df[\"dataset\"].unique()"
   ]
  },
  {
   "cell_type": "code",
   "execution_count": null,
   "metadata": {},
   "outputs": [],
   "source": []
  }
 ],
 "metadata": {
  "kernelspec": {
   "display_name": ".venv",
   "language": "python",
   "name": "python3"
  },
  "language_info": {
   "codemirror_mode": {
    "name": "ipython",
    "version": 3
   },
   "file_extension": ".py",
   "mimetype": "text/x-python",
   "name": "python",
   "nbconvert_exporter": "python",
   "pygments_lexer": "ipython3",
   "version": "3.10.12"
  }
 },
 "nbformat": 4,
 "nbformat_minor": 2
}
