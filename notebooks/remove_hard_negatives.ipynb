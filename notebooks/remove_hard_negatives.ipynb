{
 "cells": [
  {
   "cell_type": "code",
   "execution_count": 82,
   "metadata": {},
   "outputs": [
    {
     "data": {
      "text/plain": [
       "True"
      ]
     },
     "execution_count": 82,
     "metadata": {},
     "output_type": "execute_result"
    }
   ],
   "source": [
    "import pandas as pd\n",
    "from dotenv import load_dotenv, find_dotenv\n",
    "import os\n",
    "import matplotlib.pyplot as plt\n",
    "import seaborn as sns\n",
    "import numpy as np\n",
    "\n",
    "load_dotenv(find_dotenv())"
   ]
  },
  {
   "cell_type": "code",
   "execution_count": 83,
   "metadata": {},
   "outputs": [
    {
     "data": {
      "text/plain": [
       "'/student/tdy245/Projects/cmpt828_deeplearning/PaCo/data/output'"
      ]
     },
     "execution_count": 83,
     "metadata": {},
     "output_type": "execute_result"
    }
   ],
   "source": [
    "project_root = os.environ.get(\"PROJECT_ROOT\")\n",
    "data_dir = os.environ.get(\"DATA_DIR\")\n",
    "dataset_fullpath = os.path.join(project_root, data_dir, \"output\")\n",
    "dataset_fullpath"
   ]
  },
  {
   "cell_type": "code",
   "execution_count": 84,
   "metadata": {},
   "outputs": [],
   "source": [
    "large_patches_df = pd.read_csv(os.path.join(dataset_fullpath, \"large-patches.csv\"))\n",
    "small_patches_df = pd.read_csv(os.path.join(dataset_fullpath, \"small-patches.csv\")) "
   ]
  },
  {
   "cell_type": "code",
   "execution_count": 91,
   "metadata": {},
   "outputs": [
    {
     "data": {
      "text/html": [
       "<div>\n",
       "<style scoped>\n",
       "    .dataframe tbody tr th:only-of-type {\n",
       "        vertical-align: middle;\n",
       "    }\n",
       "\n",
       "    .dataframe tbody tr th {\n",
       "        vertical-align: top;\n",
       "    }\n",
       "\n",
       "    .dataframe thead th {\n",
       "        text-align: right;\n",
       "    }\n",
       "</style>\n",
       "<table border=\"1\" class=\"dataframe\">\n",
       "  <thead>\n",
       "    <tr style=\"text-align: right;\">\n",
       "      <th></th>\n",
       "      <th>dataset</th>\n",
       "      <th>tool</th>\n",
       "      <th>buggy</th>\n",
       "      <th>patch</th>\n",
       "      <th>label</th>\n",
       "    </tr>\n",
       "  </thead>\n",
       "  <tbody>\n",
       "    <tr>\n",
       "      <th>0</th>\n",
       "      <td>Bugs.jar-math-45</td>\n",
       "      <td>jKali-DifferentFragPatches</td>\n",
       "      <td>final double ret; final double absX = org.apa...</td>\n",
       "      <td>if (true) {</td>\n",
       "      <td>overfitting</td>\n",
       "    </tr>\n",
       "    <tr>\n",
       "      <th>1</th>\n",
       "      <td>Defects4J-Chart-5</td>\n",
       "      <td>jKali-DifferentFragPatches</td>\n",
       "      <td>if (this.autoSort) { this.data.add(((-index) ...</td>\n",
       "      <td>if (false) {</td>\n",
       "      <td>overfitting</td>\n",
       "    </tr>\n",
       "    <tr>\n",
       "      <th>2</th>\n",
       "      <td>Defects4J-Math-8</td>\n",
       "      <td>jKali-DifferentFragPatches</td>\n",
       "      <td>final T[] out = ((T[]) (java.lang.reflect.Arr...</td>\n",
       "      <td></td>\n",
       "      <td>overfitting</td>\n",
       "    </tr>\n",
       "    <tr>\n",
       "      <th>3</th>\n",
       "      <td>Bears-139</td>\n",
       "      <td>jKali-DifferentFragPatches</td>\n",
       "      <td>} } if (parser.hasNext(2)) { decodeDataFields...</td>\n",
       "      <td>if (false) {</td>\n",
       "      <td>overfitting</td>\n",
       "    </tr>\n",
       "    <tr>\n",
       "      <th>4</th>\n",
       "      <td>Defects4J-Closure-10</td>\n",
       "      <td>jKali-DifferentFragPatches</td>\n",
       "      <td>} static boolean mayBeString(com.google.javas...</td>\n",
       "      <td>if (false) {</td>\n",
       "      <td>overfitting</td>\n",
       "    </tr>\n",
       "  </tbody>\n",
       "</table>\n",
       "</div>"
      ],
      "text/plain": [
       "                dataset                        tool  \\\n",
       "0      Bugs.jar-math-45  jKali-DifferentFragPatches   \n",
       "1     Defects4J-Chart-5  jKali-DifferentFragPatches   \n",
       "2      Defects4J-Math-8  jKali-DifferentFragPatches   \n",
       "3             Bears-139  jKali-DifferentFragPatches   \n",
       "4  Defects4J-Closure-10  jKali-DifferentFragPatches   \n",
       "\n",
       "                                               buggy          patch  \\\n",
       "0   final double ret; final double absX = org.apa...   if (true) {    \n",
       "1   if (this.autoSort) { this.data.add(((-index) ...  if (false) {    \n",
       "2   final T[] out = ((T[]) (java.lang.reflect.Arr...                  \n",
       "3   } } if (parser.hasNext(2)) { decodeDataFields...  if (false) {    \n",
       "4   } static boolean mayBeString(com.google.javas...  if (false) {    \n",
       "\n",
       "         label  \n",
       "0  overfitting  \n",
       "1  overfitting  \n",
       "2  overfitting  \n",
       "3  overfitting  \n",
       "4  overfitting  "
      ]
     },
     "execution_count": 91,
     "metadata": {},
     "output_type": "execute_result"
    }
   ],
   "source": [
    "large_patches_df.head()"
   ]
  },
  {
   "cell_type": "code",
   "execution_count": 90,
   "metadata": {},
   "outputs": [
    {
     "data": {
      "text/plain": [
       "49694"
      ]
     },
     "execution_count": 90,
     "metadata": {},
     "output_type": "execute_result"
    }
   ],
   "source": [
    "len(large_patches_df)"
   ]
  },
  {
   "cell_type": "markdown",
   "metadata": {},
   "source": [
    "Visualize and Remove the hard Negatives of small_dataset"
   ]
  },
  {
   "cell_type": "code",
   "execution_count": 85,
   "metadata": {},
   "outputs": [],
   "source": [
    "small_df_ = pd.crosstab(small_patches_df[\"dataset\"], small_patches_df[\"label\"])\n",
    "small_df_.name = \"small_patches\""
   ]
  },
  {
   "cell_type": "code",
   "execution_count": 86,
   "metadata": {},
   "outputs": [],
   "source": [
    "small_df_ = pd.crosstab(small_patches_df[\"dataset\"], small_patches_df[\"label\"])\n",
    "small_df_.name = \"small_patches\""
   ]
  },
  {
   "cell_type": "code",
   "execution_count": 76,
   "metadata": {},
   "outputs": [
    {
     "data": {
      "image/png": "[encoded data removed]",
      "text/plain": [
       "<Figure size 640x480 with 1 Axes>"
      ]
     },
     "metadata": {},
     "output_type": "display_data"
    }
   ],
   "source": [
    "data = pd.DataFrame({\n",
    "        \"Number of patches\": np.concatenate([small_df_[\"correct\"] , small_df_[\"overfitting\"] ]),\n",
    "        \"Category\": [\"Correct\" for i in range(len(small_df_[\"correct\"]))] + [\"Overfitting\" for i in range(len(small_df_[\"overfitting\"]))]\n",
    "    })\n",
    "\n",
    "sns.violinplot(data=data, y='Category', x=\"Number of patches\", bw_method=.5);"
   ]
  },
  {
   "cell_type": "code",
   "execution_count": 87,
   "metadata": {},
   "outputs": [],
   "source": [
    "large_df_ = pd.crosstab(large_patches_df[\"dataset\"], large_patches_df[\"label\"])\n",
    "large_df_.name = \"large_patches\""
   ]
  },
  {
   "cell_type": "code",
   "execution_count": 88,
   "metadata": {},
   "outputs": [
    {
     "data": {
      "text/plain": [
       "855"
      ]
     },
     "execution_count": 88,
     "metadata": {},
     "output_type": "execute_result"
    }
   ],
   "source": [
    "len(large_df_)"
   ]
  },
  {
   "cell_type": "code",
   "execution_count": 80,
   "metadata": {},
   "outputs": [
    {
     "data": {
      "text/plain": [
       "<Axes: xlabel='Number of patches'>"
      ]
     },
     "execution_count": 80,
     "metadata": {},
     "output_type": "execute_result"
    },
    {
     "data": {
      "image/png": "[encoded data removed]",
      "text/plain": [
       "<Figure size 640x480 with 1 Axes>"
      ]
     },
     "metadata": {},
     "output_type": "display_data"
    }
   ],
   "source": [
    "data = pd.DataFrame({\n",
    "        \"Number of patches\": np.concatenate([large_df_[\"correct\"] , large_df_[\"overfitting\"] ]),\n",
    "        \"Category\": [\"Correct\" for i in range(len(large_df_[\"correct\"]))] + [\"Overfitting\" for i in range(len(large_df_[\"overfitting\"]))]\n",
    "    })\n",
    "\n",
    "sns.violinplot(data=data, x=\"Number of patches\", hue=\"Category\", bw_method=.2)"
   ]
  },
  {
   "cell_type": "code",
   "execution_count": 77,
   "metadata": {},
   "outputs": [],
   "source": [
    "large_df_ = large_df_.loc[large_df_['overfitting'] < 100]"
   ]
  },
  {
   "cell_type": "code",
   "execution_count": 79,
   "metadata": {},
   "outputs": [],
   "source": [
    "large_df_ = large_df_.loc[large_df_['correct'] < 100]"
   ]
  },
  {
   "cell_type": "code",
   "execution_count": 81,
   "metadata": {},
   "outputs": [
    {
     "data": {
      "text/plain": [
       "735"
      ]
     },
     "execution_count": 81,
     "metadata": {},
     "output_type": "execute_result"
    }
   ],
   "source": [
    "len(large_df_)"
   ]
  },
  {
   "cell_type": "code",
   "execution_count": 53,
   "metadata": {},
   "outputs": [
    {
     "data": {
      "text/plain": [
       "356"
      ]
     },
     "execution_count": 53,
     "metadata": {},
     "output_type": "execute_result"
    }
   ],
   "source": [
    "len(small_df_)"
   ]
  },
  {
   "cell_type": "code",
   "execution_count": 54,
   "metadata": {},
   "outputs": [],
   "source": [
    "small_df_ = small_df_.loc[small_df_['overfitting'] < 10]"
   ]
  },
  {
   "cell_type": "code",
   "execution_count": null,
   "metadata": {},
   "outputs": [],
   "source": []
  }
 ],
 "metadata": {
  "kernelspec": {
   "display_name": ".venv",
   "language": "python",
   "name": "python3"
  },
  "language_info": {
   "codemirror_mode": {
    "name": "ipython",
    "version": 3
   },
   "file_extension": ".py",
   "mimetype": "text/x-python",
   "name": "python",
   "nbconvert_exporter": "python",
   "pygments_lexer": "ipython3",
   "version": "3.10.12"
  }
 },
 "nbformat": 4,
 "nbformat_minor": 2
}
